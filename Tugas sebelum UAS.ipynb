{
 "cells": [
  {
   "cell_type": "code",
   "execution_count": 1,
   "id": "10d85506-cafc-4955-8939-6866d82fef7a",
   "metadata": {},
   "outputs": [],
   "source": [
    "import re\n",
    "from sklearn.feature_extraction.text import TfidfVectorizer\n",
    "from sklearn.cluster import KMeans\n",
    "from sklearn.metrics import silhouette_score"
   ]
  },
  {
   "cell_type": "code",
   "execution_count": 2,
   "id": "26b56630-245b-4a8e-825b-969de19f831b",
   "metadata": {},
   "outputs": [],
   "source": [
    "file_path = 'data_group.txt'\n",
    "with open(file_path, 'r', encoding='utf-8') as file:\n",
    "    lines = file.readlines()"
   ]
  },
  {
   "cell_type": "code",
   "execution_count": 3,
   "id": "974b3052-c105-4bb9-89fa-bc12079a6d35",
   "metadata": {},
   "outputs": [],
   "source": [
    "cleaned_lines = [re.sub(r'[^a-zA-Z0-9\\s.,!?]', '', line).strip() for line in lines if line.strip()]"
   ]
  },
  {
   "cell_type": "code",
   "execution_count": 4,
   "id": "2c4db9a1-83b7-4916-a527-573f371a0efa",
   "metadata": {},
   "outputs": [],
   "source": [
    "cleaned_lines = [line for line in cleaned_lines if len(line.split()) > 2]"
   ]
  },
  {
   "cell_type": "code",
   "execution_count": 5,
   "id": "3b988617-8688-466a-b53b-c81a96d9e26f",
   "metadata": {},
   "outputs": [],
   "source": [
    "vectorizer = TfidfVectorizer(stop_words='english', max_features=500)\n",
    "X = vectorizer.fit_transform(cleaned_lines)"
   ]
  },
  {
   "cell_type": "code",
   "execution_count": 6,
   "id": "f2ca19a6-7713-47cb-8843-a8a1cd56844d",
   "metadata": {},
   "outputs": [
    {
     "name": "stdout",
     "output_type": "stream",
     "text": [
      "\n",
      "Clustering dengan 2 klaster:\n",
      "Silhouette Score: 0.0227\n",
      "Klaster 0: 11, image, 10, omitted, pm\n",
      "Klaster 1: yang, mahasiswa, whatsapp, dan, ums\n",
      "\n",
      "Clustering dengan 3 klaster:\n",
      "Silhouette Score: 0.0223\n",
      "Klaster 0: 12, 190822, 11, 10, pm\n",
      "Klaster 1: informatika, httpschat, mahasiswa, whatsapp, ums\n",
      "Klaster 2: 11, pm, sticker, image, omitted\n",
      "\n",
      "Clustering dengan 4 klaster:\n",
      "Silhouette Score: 0.0176\n",
      "Klaster 0: robby, yang, 130922, 120922, pm\n",
      "Klaster 1: untuk, whatsapp, mahasiswa, dan, ums\n",
      "Klaster 2: 170822, 190822, 210922, omitted, 11\n",
      "Klaster 3: 12, image, 10, omitted, pm\n",
      "\n",
      "Clustering dengan 5 klaster:\n",
      "Silhouette Score: 0.0193\n",
      "Klaster 0: ada, yang, 130922, 120922, pm\n",
      "Klaster 1: untuk, whatsapp, dan, mahasiswa, ums\n",
      "Klaster 2: 170822, 190822, 210922, omitted, 11\n",
      "Klaster 3: sticker, 12, image, omitted, pm\n",
      "Klaster 4: 190822, pm, omitted, 300822, 10\n"
     ]
    }
   ],
   "source": [
    "# KMeans Clustering\n",
    "optimal_clusters = range(2, 6)\n",
    "for n_clusters in optimal_clusters:\n",
    "    kmeans = KMeans(n_clusters=n_clusters, random_state=42)\n",
    "    labels = kmeans.fit_predict(X)\n",
    "    silhouette_avg = silhouette_score(X, labels)\n",
    "    \n",
    "    print(f\"\\nClustering dengan {n_clusters} klaster:\")\n",
    "    print(f\"Silhouette Score: {silhouette_avg:.4f}\")\n",
    "    \n",
    "    # Menampilkan kata kunci di setiap klaster\n",
    "    terms = vectorizer.get_feature_names_out()\n",
    "    for i in range(n_clusters):\n",
    "        top_terms = [terms[ind] for ind in kmeans.cluster_centers_.argsort()[i, -5:]]\n",
    "        print(f\"Klaster {i}: {', '.join(top_terms)}\")"
   ]
  },
  {
   "cell_type": "code",
   "execution_count": 7,
   "id": "7cfa2a85-1d8c-497e-be9d-046baf54203c",
   "metadata": {},
   "outputs": [
    {
     "name": "stdout",
     "output_type": "stream",
     "text": [
      "Hasil clustering disimpan di: clustered_data.txt\n"
     ]
    }
   ],
   "source": [
    "# Menyimpan hasil clustering ke file\n",
    "output_file = 'clustered_data.txt'\n",
    "with open(output_file, 'w', encoding='utf-8') as file:\n",
    "    for cluster_id, text in zip(labels, cleaned_lines):\n",
    "        file.write(f\"Cluster {cluster_id}: {text}\\n\")\n",
    "\n",
    "print(f\"Hasil clustering disimpan di: {output_file}\")"
   ]
  },
  {
   "cell_type": "code",
   "execution_count": null,
   "id": "12f5456e-3aa0-4fb2-8326-cabdbbf60af3",
   "metadata": {},
   "outputs": [],
   "source": []
  }
 ],
 "metadata": {
  "kernelspec": {
   "display_name": "Python 3 (ipykernel)",
   "language": "python",
   "name": "python3"
  },
  "language_info": {
   "codemirror_mode": {
    "name": "ipython",
    "version": 3
   },
   "file_extension": ".py",
   "mimetype": "text/x-python",
   "name": "python",
   "nbconvert_exporter": "python",
   "pygments_lexer": "ipython3",
   "version": "3.10.7"
  }
 },
 "nbformat": 4,
 "nbformat_minor": 5
}
